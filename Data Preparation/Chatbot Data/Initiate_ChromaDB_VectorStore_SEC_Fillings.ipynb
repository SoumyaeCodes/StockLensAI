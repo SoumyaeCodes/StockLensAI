{
 "cells": [
  {
   "cell_type": "code",
   "execution_count": 14,
   "metadata": {},
   "outputs": [],
   "source": [
    "import re\n",
    "import os\n",
    "import json\n",
    "import boto3\n",
    "import requests\n",
    "import chromadb\n",
    "from bs4 import BeautifulSoup\n",
    "from langchain_chroma import Chroma\n",
    "from langchain.schema import Document\n",
    "from langchain_aws import BedrockEmbeddings\n",
    "from langchain.text_splitter import RecursiveCharacterTextSplitter"
   ]
  },
  {
   "cell_type": "code",
   "execution_count": null,
   "metadata": {},
   "outputs": [],
   "source": [
    "os.environ['TAVILY_API_KEY'] = \"YOUR-API_KEY\"\n",
    "os.environ['GROQ_API_KEY'] = \"YOUR-API_KEY\"\n",
    "os.environ['AWS_ACCESS_KEY_ID'] = \"YOUR-API_KEY\"\n",
    "os.environ['AWS_SECRET_ACCESS_KEY'] = \"YOUR-API_KEY\"\n",
    "os.environ['AWS_DEFAULT_REGION'] = 'us-west-2'"
   ]
  },
  {
   "cell_type": "code",
   "execution_count": null,
   "metadata": {},
   "outputs": [],
   "source": [
    "# getting all links for a given company CIK from SEC website  \n",
    "def SEC_filing_URLS(CIK):\n",
    "  BASE_URL = f\"https://data.sec.gov/submissions/CIK{CIK}.json\"\n",
    "  HEADERS = {\n",
    "      \"User-Agent\": \"Mozilla/5.0 (Windows NT 10.0; Win64; x64) AppleWebKit/537.36 (KHTML, like Gecko) Chrome/91.0.4472.124 Safari/537.36\"\n",
    "  }\n",
    "  skip_filings = [\"4\", \"NO ACT\", \"UPLOAD\", \"CORRESP\", \"IRANNOTICE\", \"CERTNYS\"]\n",
    "  filing_dict = {}\n",
    "  response = requests.get(BASE_URL, headers=HEADERS)\n",
    "\n",
    "  if response.status_code == 200:\n",
    "      data = response.json()\n",
    "      filings = data.get(\"filings\", {}).get(\"recent\", {})\n",
    "\n",
    "      filing_counts = {}  \n",
    "\n",
    "      for i in range(len(filings.get(\"accessionNumber\", []))):\n",
    "          filing_type = filings[\"form\"][i]\n",
    "\n",
    "          if filing_type in skip_filings:\n",
    "              continue  \n",
    "\n",
    "          if filing_type not in filing_counts:\n",
    "              filing_counts[filing_type] = 0\n",
    "\n",
    "          if filing_counts[filing_type] >= 1:\n",
    "              continue  \n",
    "\n",
    "          filing_counts[filing_type] += 1\n",
    "          filing_link = f'https://www.sec.gov/Archives/edgar/data/{CIK}/{filings[\"accessionNumber\"][i].replace(\"-\", \"\")}/{filings[\"primaryDocument\"][i]}'\n",
    "          if filing_type not in filing_dict:\n",
    "              filing_dict[filing_type] = []\n",
    "\n",
    "          filing_dict[filing_type].append(filing_link)\n",
    "      return filing_dict\n",
    "  else:\n",
    "      print(\"Failed to retrieve data from SEC EDGAR API\")"
   ]
  },
  {
   "cell_type": "code",
   "execution_count": 17,
   "metadata": {},
   "outputs": [],
   "source": [
    "# Apple Inc. CIK\n",
    "CIK = \"0000320193\"\n",
    "SEC_filing_URLS = SEC_filing_URLS(CIK)"
   ]
  },
  {
   "cell_type": "code",
   "execution_count": 18,
   "metadata": {},
   "outputs": [
    {
     "data": {
      "text/plain": [
       "{'PX14A6G': ['https://www.sec.gov/Archives/edgar/data/0000320193/000109690625000152/bowy_px14a6g.htm'],\n",
       " '144': ['https://www.sec.gov/Archives/edgar/data/0000320193/000192109425000087/xsl144X01/primary_doc.xml'],\n",
       " '10-Q': ['https://www.sec.gov/Archives/edgar/data/0000320193/000032019325000008/aapl-20241228.htm'],\n",
       " '8-K': ['https://www.sec.gov/Archives/edgar/data/0000320193/000032019325000007/aapl-20250130.htm'],\n",
       " '3': ['https://www.sec.gov/Archives/edgar/data/0000320193/000032019325000002/xslF345X02/wk-form3_1736551805.xml'],\n",
       " 'DEFA14A': ['https://www.sec.gov/Archives/edgar/data/0000320193/000130817925000009/aapl4359751-defa14a.htm'],\n",
       " 'DEF 14A': ['https://www.sec.gov/Archives/edgar/data/0000320193/000130817925000008/aapl4359751-def14a.htm'],\n",
       " 'S-3ASR': ['https://www.sec.gov/Archives/edgar/data/0000320193/000114036124044880/ny20033611x4_s3asr.htm'],\n",
       " '10-K': ['https://www.sec.gov/Archives/edgar/data/0000320193/000032019324000123/aapl-20240928.htm'],\n",
       " '5': ['https://www.sec.gov/Archives/edgar/data/0000320193/000032019324000102/xslF345X05/wk-form5_1727822122.xml'],\n",
       " 'SD': ['https://www.sec.gov/Archives/edgar/data/0000320193/000114036124015633/ef20024616_sd.htm'],\n",
       " 'SC 13G/A': ['https://www.sec.gov/Archives/edgar/data/0000320193/000119312524036431/d751537dsc13ga.htm'],\n",
       " '25-NSE': ['https://www.sec.gov/Archives/edgar/data/0000320193/000135445724000017/xslF25X02/primary_doc.xml'],\n",
       " '424B2': ['https://www.sec.gov/Archives/edgar/data/0000320193/000114036123023700/ny20007635x3_424b2.htm'],\n",
       " 'FWP': ['https://www.sec.gov/Archives/edgar/data/0000320193/000114036123023544/ny20007635x2_fwp.htm'],\n",
       " '4/A': ['https://www.sec.gov/Archives/edgar/data/0000320193/000032019322000078/xslF345X03/wf-form4a_166120817922787.xml'],\n",
       " 'S-8': ['https://www.sec.gov/Archives/edgar/data/0000320193/000119312522128368/d332661ds8.htm'],\n",
       " 'S-8 POS': ['https://www.sec.gov/Archives/edgar/data/0000320193/000119312522128361/d279200ds8pos.htm'],\n",
       " 'PX14A6N': ['https://www.sec.gov/Archives/edgar/data/0000320193/000137773922000005/aapldearshareholder.htm'],\n",
       " 'CERT': ['https://www.sec.gov/Archives/edgar/data/0000320193/000135445719000604/8A_Cert_AAPL.pdf'],\n",
       " '8-A12B': ['https://www.sec.gov/Archives/edgar/data/0000320193/000119312519292825/d827578d8a12b.htm'],\n",
       " '3/A': ['https://www.sec.gov/Archives/edgar/data/0000320193/000032019319000058/xslF345X02/wf-form3a_155554028715520.xml'],\n",
       " '25': ['https://www.sec.gov/Archives/edgar/data/0000320193/000119312519074874/d719398d25.htm'],\n",
       " 'SC 13G': ['https://www.sec.gov/Archives/edgar/data/0000320193/000119312519041014/d667611dsc13g.htm'],\n",
       " '8-K/A': ['https://www.sec.gov/Archives/edgar/data/0000320193/000119312518154948/d563832d8ka.htm']}"
      ]
     },
     "execution_count": 18,
     "metadata": {},
     "output_type": "execute_result"
    }
   ],
   "source": [
    "SEC_filing_URLS"
   ]
  },
  {
   "cell_type": "code",
   "execution_count": 19,
   "metadata": {},
   "outputs": [],
   "source": [
    "filings_to_download = ['PX14A6G', '144', '10-Q', '8-K', '3', 'DEFA14A', 'DEF 14A', 'S-3ASR', '10-K', '5', 'SD', 'SC 13G/A', '25-NSE', '424B2', 'FWP', '4/A', 'S-8', 'S-8 POS', 'PX14A6N', 'CERT', '8-A12B', '3/A', '25', 'SC 13G', '8-K/A']\n"
   ]
  },
  {
   "cell_type": "code",
   "execution_count": null,
   "metadata": {},
   "outputs": [],
   "source": [
    "# getting links for tags to download corresponding data\n",
    "def get_sec_filing_urls(a, SEC_filing_URLS):\n",
    "    return [SEC_filing_URLS[tag][0] for tag in a if tag in SEC_filing_URLS and SEC_filing_URLS[tag]]\n"
   ]
  },
  {
   "cell_type": "code",
   "execution_count": 21,
   "metadata": {},
   "outputs": [],
   "source": [
    "result = get_sec_filing_urls(filings_to_download, SEC_filing_URLS)"
   ]
  },
  {
   "cell_type": "code",
   "execution_count": 22,
   "metadata": {},
   "outputs": [
    {
     "data": {
      "text/plain": [
       "['https://www.sec.gov/Archives/edgar/data/0000320193/000109690625000152/bowy_px14a6g.htm',\n",
       " 'https://www.sec.gov/Archives/edgar/data/0000320193/000192109425000087/xsl144X01/primary_doc.xml',\n",
       " 'https://www.sec.gov/Archives/edgar/data/0000320193/000032019325000008/aapl-20241228.htm',\n",
       " 'https://www.sec.gov/Archives/edgar/data/0000320193/000032019325000007/aapl-20250130.htm',\n",
       " 'https://www.sec.gov/Archives/edgar/data/0000320193/000032019325000002/xslF345X02/wk-form3_1736551805.xml',\n",
       " 'https://www.sec.gov/Archives/edgar/data/0000320193/000130817925000009/aapl4359751-defa14a.htm',\n",
       " 'https://www.sec.gov/Archives/edgar/data/0000320193/000130817925000008/aapl4359751-def14a.htm',\n",
       " 'https://www.sec.gov/Archives/edgar/data/0000320193/000114036124044880/ny20033611x4_s3asr.htm',\n",
       " 'https://www.sec.gov/Archives/edgar/data/0000320193/000032019324000123/aapl-20240928.htm',\n",
       " 'https://www.sec.gov/Archives/edgar/data/0000320193/000032019324000102/xslF345X05/wk-form5_1727822122.xml',\n",
       " 'https://www.sec.gov/Archives/edgar/data/0000320193/000114036124015633/ef20024616_sd.htm',\n",
       " 'https://www.sec.gov/Archives/edgar/data/0000320193/000119312524036431/d751537dsc13ga.htm',\n",
       " 'https://www.sec.gov/Archives/edgar/data/0000320193/000135445724000017/xslF25X02/primary_doc.xml',\n",
       " 'https://www.sec.gov/Archives/edgar/data/0000320193/000114036123023700/ny20007635x3_424b2.htm',\n",
       " 'https://www.sec.gov/Archives/edgar/data/0000320193/000114036123023544/ny20007635x2_fwp.htm',\n",
       " 'https://www.sec.gov/Archives/edgar/data/0000320193/000032019322000078/xslF345X03/wf-form4a_166120817922787.xml',\n",
       " 'https://www.sec.gov/Archives/edgar/data/0000320193/000119312522128368/d332661ds8.htm',\n",
       " 'https://www.sec.gov/Archives/edgar/data/0000320193/000119312522128361/d279200ds8pos.htm',\n",
       " 'https://www.sec.gov/Archives/edgar/data/0000320193/000137773922000005/aapldearshareholder.htm',\n",
       " 'https://www.sec.gov/Archives/edgar/data/0000320193/000135445719000604/8A_Cert_AAPL.pdf',\n",
       " 'https://www.sec.gov/Archives/edgar/data/0000320193/000119312519292825/d827578d8a12b.htm',\n",
       " 'https://www.sec.gov/Archives/edgar/data/0000320193/000032019319000058/xslF345X02/wf-form3a_155554028715520.xml',\n",
       " 'https://www.sec.gov/Archives/edgar/data/0000320193/000119312519074874/d719398d25.htm',\n",
       " 'https://www.sec.gov/Archives/edgar/data/0000320193/000119312519041014/d667611dsc13g.htm',\n",
       " 'https://www.sec.gov/Archives/edgar/data/0000320193/000119312518154948/d563832d8ka.htm']"
      ]
     },
     "execution_count": 22,
     "metadata": {},
     "output_type": "execute_result"
    }
   ],
   "source": [
    "result"
   ]
  },
  {
   "cell_type": "code",
   "execution_count": null,
   "metadata": {},
   "outputs": [],
   "source": [
    "# Using amazon titan model to create embds\n",
    "bedrock_client = boto3.client(\n",
    "    service_name='bedrock-runtime',\n",
    "    region_name='us-west-2'\n",
    ")\n",
    "bedrock_embeddings = BedrockEmbeddings(\n",
    "    client=bedrock_client, region_name='us-west-2', model_id='amazon.titan-embed-text-v2:0'\n",
    ")"
   ]
  },
  {
   "cell_type": "code",
   "execution_count": null,
   "metadata": {},
   "outputs": [
    {
     "name": "stdout",
     "output_type": "stream",
     "text": [
      "0000320193_PX14A6G\n",
      "Total chunks created: 7\n",
      "0000320193_144\n",
      "Total chunks created: 2\n",
      "0000320193_10-Q\n",
      "Total chunks created: 41\n",
      "0000320193_8-K\n",
      "Total chunks created: 4\n",
      "0000320193_3\n",
      "Total chunks created: 3\n",
      "0000320193_DEFA14A\n",
      "Total chunks created: 4\n",
      "0000320193_DEF_14A\n",
      "Total chunks created: 192\n",
      "0000320193_S-3ASR\n",
      "Total chunks created: 67\n",
      "0000320193_10-K\n",
      "Total chunks created: 126\n",
      "0000320193_5\n",
      "Total chunks created: 2\n",
      "0000320193_SD\n",
      "Total chunks created: 1\n",
      "0000320193_SC_13G_A\n",
      "Total chunks created: 24\n",
      "0000320193_25-NSE\n",
      "Total chunks created: 1\n",
      "0000320193_424B2\n",
      "Total chunks created: 107\n",
      "0000320193_FWP\n",
      "Total chunks created: 16\n",
      "0000320193_4_A\n",
      "Total chunks created: 4\n",
      "0000320193_S-8\n",
      "Total chunks created: 6\n",
      "0000320193_S-8_POS\n",
      "Total chunks created: 16\n",
      "0000320193_PX14A6N\n",
      "Total chunks created: 9\n",
      "0000320193_CERT\n",
      "Total chunks created: 59\n",
      "0000320193_8-A12B\n",
      "Total chunks created: 2\n",
      "0000320193_3_A\n",
      "Total chunks created: 2\n",
      "0000320193_25\n",
      "Total chunks created: 1\n",
      "0000320193_SC_13G\n",
      "Total chunks created: 32\n",
      "0000320193_8-K_A\n",
      "Total chunks created: 2\n"
     ]
    }
   ],
   "source": [
    "# Creating collections and saving embds to it\n",
    "for i in range(len(result)):\n",
    "    s = str()\n",
    "    headers = {\n",
    "    \"User-Agent\": \"PersonalScript/1.0 (your@email.com)\"\n",
    "    }\n",
    "    filing_url = result[i]\n",
    "    filing_tag = filings_to_download[i]\n",
    "    combined_string = re.sub(r'[^a-zA-Z0-9_-]', '_', f\"{CIK}_{filings_to_download[i]}\")\n",
    "    print(combined_string)\n",
    "\n",
    "    filing_response = requests.get(filing_url, headers=headers)\n",
    "\n",
    "    soup = BeautifulSoup(filing_response.text, \"html.parser\")\n",
    "    for script_or_style in soup([\"script\", \"style\", \"a\"]):\n",
    "        script_or_style.decompose()\n",
    "    clean_text = soup.get_text(separator=\"\\n\", strip=True)\n",
    "    cleaned_data = re.sub(r'[0-9$#@!*&^%$€\\.\\,;:<>_+=|\\\\/\\[\\]{}()-]', '', clean_text)\n",
    "    # cleaned_data = \"\\n\".join(line.strip() for line in cleaned_data.splitlines() if len(re.findall(r'\\w+', line.strip())) > 3)\n",
    "    docs = [Document(page_content=cleaned_data)]\n",
    "    splitter = RecursiveCharacterTextSplitter(chunk_size=2000, chunk_overlap=300)\n",
    "    chunked_docs = splitter.split_documents(docs)\n",
    "    print(f\"Total chunks created: {len(chunked_docs)}\")\n",
    "    \n",
    "    batch_size = 166\n",
    "    batches = [chunked_docs[i:i + batch_size] for i in range(0, len(chunked_docs), batch_size)]\n",
    "\n",
    "    for batch in batches:\n",
    "        chroma_db = Chroma.from_documents(documents=batch,\n",
    "                                        collection_name=combined_string,\n",
    "                                        embedding=bedrock_embeddings,\n",
    "                                        persist_directory=\"./SEC_DATA\")\n",
    "\n",
    "\n"
   ]
  },
  {
   "cell_type": "code",
   "execution_count": null,
   "metadata": {},
   "outputs": [
    {
     "name": "stdout",
     "output_type": "stream",
     "text": [
      "0000320193_DEFA14A\n",
      "0000320193_PX14A6G\n",
      "0000320193_3\n",
      "0000320193_FWP\n",
      "0000320193_CERT\n",
      "0000320193_8-K\n",
      "0000320193_S-3ASR\n",
      "0000320193_S-8\n",
      "0000320193_10-Q\n",
      "0000320193_25\n",
      "0000320193_5\n",
      "test_set_1\n",
      "0000320193_DEF_14A\n",
      "0000320193_4_A\n",
      "0000320193_144\n",
      "0000320193_1\n",
      "0000320193_2\n",
      "0000320193_424B2\n",
      "0000320193_3_A\n",
      "0000320193_0\n",
      "0000320193_SC_13G\n",
      "0000320193_10-K\n",
      "0000320193_8-A12B\n",
      "0000320193_SC_13G_A\n",
      "0000320193_SD\n",
      "0000320193_25-NSE\n",
      "0000320193_S-8_POS\n",
      "0000320193_PX14A6N\n",
      "0000320193_8-K_A\n"
     ]
    }
   ],
   "source": [
    "# To print all collections in ChromaDb\n",
    "\n",
    "# Initialize ChromaDB client\n",
    "client = chromadb.PersistentClient(path=\"./SEC_DATA\")\n",
    "# List all collections\n",
    "collections = client.list_collections()\n",
    "# Print collection names\n",
    "for collection in collections:\n",
    "    print(collection.name)\n"
   ]
  },
  {
   "cell_type": "code",
   "execution_count": null,
   "metadata": {},
   "outputs": [],
   "source": [
    "# Method to extract data from ChromaDB"
   ]
  },
  {
   "cell_type": "code",
   "execution_count": 27,
   "metadata": {},
   "outputs": [
    {
     "name": "stderr",
     "output_type": "stream",
     "text": [
      "No relevant docs were retrieved using the relevance score threshold 0.2\n"
     ]
    }
   ],
   "source": [
    "chroma_db = Chroma(persist_directory=\"./SEC_DATA\",\n",
    "                    collection_name=\"test_set_1\",\n",
    "                    embedding_function=bedrock_embeddings)\n",
    "\n",
    "similarity_threshold_retriever = chroma_db.as_retriever(\n",
    "    search_type=\"similarity_score_threshold\",\n",
    "    search_kwargs={\"k\": 2,\"score_threshold\": 0.2}\n",
    "                                                        )\n",
    "question = \"Apple filing say about Earnings Per Share?\"\n",
    "top_docs = similarity_threshold_retriever.invoke(question)"
   ]
  },
  {
   "cell_type": "code",
   "execution_count": null,
   "metadata": {},
   "outputs": [],
   "source": []
  }
 ],
 "metadata": {
  "kernelspec": {
   "display_name": "venv",
   "language": "python",
   "name": "python3"
  },
  "language_info": {
   "codemirror_mode": {
    "name": "ipython",
    "version": 3
   },
   "file_extension": ".py",
   "mimetype": "text/x-python",
   "name": "python",
   "nbconvert_exporter": "python",
   "pygments_lexer": "ipython3",
   "version": "3.13.0"
  }
 },
 "nbformat": 4,
 "nbformat_minor": 2
}
