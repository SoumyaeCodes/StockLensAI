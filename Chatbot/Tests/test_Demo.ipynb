{
  "cells": [
    {
      "cell_type": "code",
      "execution_count": null,
      "metadata": {
        "id": "NuhV_J4XvM9C"
      },
      "outputs": [],
      "source": [
        "import os\n",
        "import ast\n",
        "import boto3\n",
        "import operator\n",
        "import re\n",
        "from langchain_chroma import Chroma\n",
        "from langchain_aws import BedrockEmbeddings\n",
        "from langchain.docstore.document import Document\n",
        "from langchain.text_splitter import RecursiveCharacterTextSplitter\n",
        "\n",
        "\n",
        "import pandas as pd\n",
        "from operator import add\n",
        "from typing import Literal\n",
        "from typing import Annotated\n",
        "from pydantic import BaseModel\n",
        "from dotenv import load_dotenv\n",
        "from langchain.schema import Document\n",
        "from typing_extensions import TypedDict\n",
        "from google.oauth2 import service_account\n",
        "from langchain_community.vectorstores import FAISS\n",
        "from langgraph.graph import END, StateGraph, START\n",
        "from langgraph.checkpoint.memory import MemorySaver\n",
        "from langchain_core.prompts import ChatPromptTemplate\n",
        "from langchain.document_loaders import DataFrameLoader\n",
        "from langchain_core.output_parsers import StrOutputParser\n",
        "from langchain_core.vectorstores.base import VectorStoreRetriever\n",
        "\n",
        "\n",
        "from pinecone import Pinecone\n",
        "from pinecone.grpc import PineconeGRPC as Pinecone\n",
        "from pinecone import ServerlessSpec\n",
        "from pinecone import Pinecone\n",
        "import itertools\n",
        "from typing import Annotated, TypedDict, List, Set\n",
        "\n",
        "\n",
        "from langchain_aws import BedrockLLM, ChatBedrockConverse\n",
        "from langchain_core.prompts import ChatPromptTemplate\n",
        "from langgraph.graph import StateGraph, START, END\n",
        "\n",
        "from tavily import TavilyClient\n",
        "\n",
        "import boto3\n",
        "import numpy as np\n",
        "from langchain.embeddings import BedrockEmbeddings\n",
        "from sklearn.metrics.pairwise import cosine_similarity\n",
        "from langchain.docstore.document import Document\n",
        "from langchain.text_splitter import RecursiveCharacterTextSplitter\n",
        "\n",
        "import json\n",
        "import groq\n"
      ]
    },
    {
      "cell_type": "code",
      "execution_count": null,
      "metadata": {
        "id": "0je9FCCxvM9D"
      },
      "outputs": [],
      "source": [
        "os.environ['TAVILY_API_KEY'] = \"YOUR-API_KEY\"\n",
        "os.environ['GROQ_API_KEY'] = \"YOUR-API_KEY\"\n",
        "os.environ['AWS_ACCESS_KEY_ID'] = \"YOUR-API_KEY\"\n",
        "os.environ['AWS_SECRET_ACCESS_KEY'] = \"YOUR-API_KEY\"\n",
        "os.environ['AWS_DEFAULT_REGION'] = 'us-west-2'"
      ]
    },
    {
      "cell_type": "code",
      "execution_count": null,
      "metadata": {
        "id": "uHu1bNWjvM9E"
      },
      "outputs": [],
      "source": [
        "bedrock_client = boto3.client(\n",
        "    service_name='bedrock-runtime',\n",
        "    region_name='us-west-2'\n",
        ")\n",
        "\n",
        "bedrock_embeddings = BedrockEmbeddings(\n",
        "    client=bedrock_client, region_name='us-west-2', model_id='amazon.titan-embed-text-v2:0'\n",
        ")\n",
        "\n",
        "bedrock_llama = ChatBedrockConverse(\n",
        "    client=bedrock_client,\n",
        "    region_name='us-west-2',\n",
        "    model_id='meta.llama3-1-70b-instruct-v1:0'\n",
        ")\n",
        "\n",
        "def generate_embeddings(body):\n",
        "    model_id = model_id='amazon.titan-embed-text-v2:0'\n",
        "    accept = \"application/json\"\n",
        "    content_type = \"application/json\"\n",
        "    response = bedrock_client.invoke_model(\n",
        "        body=body, modelId=model_id, accept=accept, contentType=content_type\n",
        "    )\n",
        "    response_body = json.loads(response.get('body').read())\n",
        "    return response_body\n",
        "\n",
        "groq_client = groq.Client(api_key=os.environ[\"GROQ_API_KEY\"])\n",
        "def groq_llama_3_3_70b_versatile(prompt: str) -> str:\n",
        "    response = groq_client.chat.completions.create(\n",
        "        model=\"llama-3.3-70b-versatile\",  # Ensure correct model name\n",
        "        messages=[{\"role\": \"user\", \"content\": prompt}],\n",
        "    )\n",
        "\n",
        "    return response.choices[0].message.content.strip()"
      ]
    },
    {
      "cell_type": "code",
      "execution_count": null,
      "metadata": {
        "id": "kXoToX_xvM9E"
      },
      "outputs": [],
      "source": [
        "class MultiAgentState(TypedDict):\n",
        "    question: str\n",
        "    answer: str\n",
        "    documents: Annotated[list[str], add]\n",
        "    web_results: Annotated[list[str], add]\n",
        "    web_ans: str\n",
        "    SEC_ans:str\n",
        "    CIK_value: str\n",
        "    SEC_filing_tags: Annotated[list[str], add]\n",
        "    followup_questions: Annotated[list[str], add]\n",
        "    halt_execution: bool\n",
        "    halt_SEC:bool"
      ]
    },
    {
      "cell_type": "code",
      "execution_count": null,
      "metadata": {
        "id": "aJFMOgLkvM9F"
      },
      "outputs": [],
      "source": [
        "def rewrite_q(state: MultiAgentState) -> MultiAgentState:\n",
        "    SYS_PROMPT = \"\"\"\n",
        "    You are a great rewriter. When given a user’s question related to the finance or stock market field, rewrite the question in more detail, ensuring it remains a single, cohesive question while covering the essence of the original query. If the user's question is not related to finance or the stock market, return -1.\n",
        "    Field of Topic: \"Finance/Stock Market\"\n",
        "\n",
        "    Input:\n",
        "    User Input: [User's question]\n",
        "    Output:\n",
        "\n",
        "    If the user's question is related to finance or the stock market, rewrite the question in greater detail, making sure it can be used for both further processing by another LLM or web search.\n",
        "    If the user's question is unrelated to finance or the stock market, return -1.\n",
        "    Examples:\n",
        "\n",
        "    User Input: \"How can I invest in the stock market?\"\n",
        "    Output: \"What are the steps to start investing in the stock market for beginners?\"\n",
        "\n",
        "    User Input: \"What is the best time to buy stocks?\"\n",
        "    Output: \"When is the optimal time to buy stocks for maximum returns?\"\n",
        "\n",
        "    User Input: \"How do stock prices go up and down?\"\n",
        "    Output: \"What factors cause fluctuations in stock prices in the stock market?\"\n",
        "\n",
        "    User Input: \"What is a good strategy for stock trading?\"\n",
        "    Output: \"What are the most effective stock trading strategies for long-term growth?\"\n",
        "\n",
        "    User Input: \"What is a dividend in stock market?\"\n",
        "    Output: \"What does a dividend mean in the context of stock market investing?\"\n",
        "\n",
        "    User Input: \"What is the weather like in Paris?\"\n",
        "    Output: -1\n",
        "\n",
        "    Be on point while generating a question!\n",
        "    Return only re-written question, or -1. (Donot return anything else!)\n",
        "\"\"\"\n",
        "\n",
        "\n",
        "\n",
        "    question = state[\"question\"]\n",
        "    prompt = SYS_PROMPT.replace(\"[User's question]\", question)\n",
        "    llm = bedrock_llama\n",
        "    rewritten_question = llm.invoke(prompt)\n",
        "\n",
        "\n",
        "    rewritten_question_content = str(rewritten_question.content.strip())\n",
        "    if rewritten_question_content != str(-1):\n",
        "        return {\"question\": rewritten_question_content, \"halt_execution\": False}\n",
        "    else:\n",
        "        return {\"answer\": \"Please ask a valid question\", \"halt_execution\": True}"
      ]
    },
    {
      "cell_type": "code",
      "execution_count": null,
      "metadata": {
        "id": "y8TklCeFvM9F"
      },
      "outputs": [],
      "source": [
        "def get_CIK(state: MultiAgentState) -> MultiAgentState:\n",
        "    SYS_PROMPT = \"\"\"\n",
        "Find the 10-digit CIK for the company mentioned in the given question. Retain leading zeros and return only the CIK value. If the CIK is not found, return -1.\n",
        "\n",
        "Input:\n",
        "User Input: [User's question]\n",
        "\n",
        "Output:\n",
        "Return only the CIK value or -1. Do not include any additional text.\n",
        "\"\"\"\n",
        "    question = state[\"question\"]\n",
        "    prompt = SYS_PROMPT.replace(\"[User's question]\", question)\n",
        "    llm = bedrock_llama\n",
        "    rewritten_question = llm.invoke(prompt)\n",
        "\n",
        "    rewritten_question_content = str(rewritten_question.content.strip())\n",
        "    if rewritten_question_content != str(-1):\n",
        "        return {\"CIK_value\": rewritten_question_content,\"halt_SEC\":False}\n",
        "    else:\n",
        "        return {\"halt_SEC\": True}"
      ]
    },
    {
      "cell_type": "code",
      "execution_count": null,
      "metadata": {
        "id": "wY9YHBftvM9F"
      },
      "outputs": [],
      "source": [
        "tavily_client = TavilyClient(api_key=os.getenv(\"TAVILY_API_KEY\"))\n",
        "\n",
        "def web_search(state: MultiAgentState) -> MultiAgentState:\n",
        "    query = state[\"question\"]\n",
        "    results = tavily_client.search(query=query, search_depth=\"basic\")\n",
        "    top_results = [r[\"content\"] for r in results[\"results\"][:10]]\n",
        "    return {\"web_results\": top_results}"
      ]
    },
    {
      "cell_type": "code",
      "execution_count": null,
      "metadata": {
        "id": "C_ccfl7RvM9G"
      },
      "outputs": [],
      "source": [
        "def web_gen_ans(state: MultiAgentState) -> MultiAgentState:\n",
        "    question = state[\"question\"]\n",
        "    body = json.dumps({\n",
        "        \"inputText\": question,\n",
        "        \"embeddingTypes\": [\"binary\"]\n",
        "    })\n",
        "    question_embedding = np.array(generate_embeddings(body)[\"embeddingsByType\"][\"binary\"])\n",
        "\n",
        "\n",
        "    web_results = state[\"web_results\"]\n",
        "    combined_web_results =  \" \".join(web_results)\n",
        "\n",
        "    docs = [Document(page_content=combined_web_results)]\n",
        "    splitter = RecursiveCharacterTextSplitter(chunk_size=2000, chunk_overlap=300)\n",
        "    chunked_docs = splitter.split_documents(docs)\n",
        "\n",
        "\n",
        "    embeddings = []\n",
        "    for doc in chunked_docs:\n",
        "        body = json.dumps({\n",
        "        \"inputText\": doc.page_content,\n",
        "        \"embeddingTypes\": [\"binary\"]\n",
        "    })\n",
        "        embeddings.append(generate_embeddings(body)[\"embeddingsByType\"][\"binary\"])\n",
        "\n",
        "    embeddings = np.array(embeddings)\n",
        "    cosine_similarities = cosine_similarity([question_embedding], embeddings)\n",
        "\n",
        "    top_3_indices = np.argsort(cosine_similarities[0])[::-1][:3]\n",
        "    top_3_docs = [chunked_docs[i].page_content for i in top_3_indices]\n",
        "    context = \"\\n\".join([doc for doc in top_3_docs])\n",
        "\n",
        "    SYS_PROMPT = \"\"\"\n",
        "You are an advanced language model trained to generate answers based strictly on the provided context.\n",
        "If the context contains the answer to the question, respond accordingly.\n",
        "\n",
        "Context:\n",
        "{context}\n",
        "\n",
        "Question: {question}\n",
        "Answer:\n",
        "\n",
        "Display only new answer generated, do not give additional information.\n",
        "    \"\"\"\n",
        "\n",
        "\n",
        "\n",
        "    prompt = SYS_PROMPT.replace(\"{context}\", context).replace(\"{question}\", question)\n",
        "    final_ans = groq_llama_3_3_70b_versatile(prompt)\n",
        "\n",
        "    if final_ans != str(-1):\n",
        "        return {\"web_ans\":final_ans}\n",
        "    else:\n",
        "        return {\"web_ans\":\"-1\"}\n"
      ]
    },
    {
      "cell_type": "code",
      "execution_count": null,
      "metadata": {
        "id": "FE-hNiUavM9G"
      },
      "outputs": [],
      "source": [
        "def get_SEC_filings_tags(state: MultiAgentState) -> MultiAgentState:\n",
        "    question = state[\"question\"]\n",
        "\n",
        "    SYS_PROMPT = SYS_PROMPT = \"\"\"\n",
        "    You are an intelligent assistant that determines whether SEC (Securities and Exchange Commission) filings data is sufficient to answer a given question about a company’s financials, operations, or performance. Based on the user's question, decide if the SEC filings, reports, or disclosures can provide enough information to answer it. Below is the list of available SEC filing types and their descriptions. If the question is related to any of these forms and sufficient information can be obtained from them, respond with the keys of the most relevant forms in a list format.\n",
        "\n",
        "    Here is the available SEC data:\n",
        "\n",
        "    ['PX14A6G', '144', '10-Q', '8-K', '3', 'DEFA14A', 'DEF 14A', 'S-3ASR', '10-K', '5', 'SD', 'SC 13G/A', '25-NSE', '424B2', 'FWP', '4/A', 'S-8', 'S-8 POS', 'PX14A6N', 'CERT', '8-A12B', '3/A', '25', 'SC 13G', '8-K/A']\n",
        "\n",
        "    Input:\n",
        "\n",
        "    User Input: [User's question]\n",
        "\n",
        "    Output:\n",
        "\n",
        "    If the question can be answered sufficiently using SEC data, return all the key(s) of the most relevant form(s) in a list format.\n",
        "    (Donot return anything else!)\n",
        "\"\"\"\n",
        "\n",
        "    prompt = SYS_PROMPT.replace(\"[User's question]\", question)\n",
        "    llm = bedrock_llama\n",
        "    rewritten_question = llm.invoke(prompt)\n",
        "    rewritten_question_content = ast.literal_eval(str(rewritten_question.content.strip()))\n",
        "\n",
        "    return {\"SEC_filing_tags\":rewritten_question_content}\n",
        "\n",
        "\n",
        "\n",
        "\n",
        "\n"
      ]
    },
    {
      "cell_type": "code",
      "execution_count": null,
      "metadata": {
        "id": "lboQxQY2vM9G"
      },
      "outputs": [],
      "source": [
        "def get_SEC_filings_data(state: MultiAgentState) -> MultiAgentState:\n",
        "    question = state[\"question\"]\n",
        "    tags = state[\"SEC_filing_tags\"]\n",
        "    CIK_value = state[\"CIK_value\"]\n",
        "\n",
        "    tempdocs = []\n",
        "    for i in range(len(tags)):\n",
        "        combined_string = re.sub(r'[^a-zA-Z0-9_-]', '_', f\"{CIK_value}_{i}\")\n",
        "        combined_string = re.sub(r'_{2,}', '_', combined_string)\n",
        "        chroma_db = Chroma(persist_directory=\"./SEC_DATA\", collection_name=combined_string, embedding_function=bedrock_embeddings)\n",
        "        similarity_threshold_retriever = chroma_db.as_retriever( search_type=\"similarity_score_threshold\", search_kwargs={\"k\": 2,\"score_threshold\": 0.2} )\n",
        "        top_docs = similarity_threshold_retriever.invoke(question)\n",
        "        if top_docs:\n",
        "            for doc in top_docs:\n",
        "                tempdocs.append(doc.page_content)\n",
        "    if tempdocs:\n",
        "        return {\"documents\":tempdocs}\n",
        "    else:\n",
        "        return {\"halt_SEC\":True}"
      ]
    },
    {
      "cell_type": "code",
      "execution_count": null,
      "metadata": {
        "id": "xIV_DOo-vM9G"
      },
      "outputs": [],
      "source": [
        "def SEC_gen_ans(state: MultiAgentState) -> MultiAgentState:\n",
        "    question = state[\"question\"]\n",
        "    docks  = state[\"documents\"]\n",
        "\n",
        "    context = \"\\n\".join([doc for doc in docks])\n",
        "\n",
        "    SYS_PROMPT = \"\"\"\n",
        "You are an advanced language model trained to generate answers based strictly on the provided context.\n",
        "If the context contains the answer to the question, respond accordingly and return -1.\n",
        "\n",
        "Context:\n",
        "{context}\n",
        "\n",
        "Question: {question}\n",
        "Answer:\n",
        "\n",
        "Display only new answer generated, do not give additional information.\n",
        "    \"\"\"\n",
        "\n",
        "\n",
        "\n",
        "    prompt = SYS_PROMPT.replace(\"{context}\", context).replace(\"{question}\", question)\n",
        "    llm = groq_llama_3_3_70b_versatile\n",
        "    final_ans = groq_llama_3_3_70b_versatile(prompt)\n",
        "\n",
        "    if final_ans != str(-1):\n",
        "        print()\n",
        "        return {\"SEC_ans\":final_ans}\n",
        "    else:\n",
        "        return {\"SEC_ans\":str(\"-1\")}\n"
      ]
    },
    {
      "cell_type": "code",
      "execution_count": null,
      "metadata": {
        "id": "jk8AgVs8vM9G"
      },
      "outputs": [],
      "source": [
        "def final_gen_ans(state: MultiAgentState) -> MultiAgentState:\n",
        "    question = state[\"question\"]\n",
        "    SEC_ans = state.get(\"SEC_ans\", \"\")\n",
        "    web_ans  = state[\"web_ans\"]\n",
        "\n",
        "    if  SEC_ans:\n",
        "        context = \"Answer generated from SEC data is: \" + SEC_ans + \"\\n\" + \"Web generated answer is: \"+ web_ans\n",
        "    else:\n",
        "        context = \"Web generated answer is: \"+ web_ans\n",
        "\n",
        "\n",
        "\n",
        "    SYS_PROMPT = \"\"\"\n",
        "You are an advanced language model trained to generate answers based strictly on the provided context.\n",
        "\n",
        "\n",
        "Context:\n",
        "{context}\n",
        "\n",
        "Question: {question}\n",
        "Answer:\n",
        "\n",
        "Display only new answer generated, do not give additional information.\n",
        "    \"\"\"\n",
        "\n",
        "\n",
        "\n",
        "    prompt = SYS_PROMPT.replace(\"{context}\", context).replace(\"{question}\", question)\n",
        "    llm = groq_llama_3_3_70b_versatile\n",
        "    final_ans = groq_llama_3_3_70b_versatile(prompt)\n",
        "\n",
        "    if final_ans != str(-1):\n",
        "        return {\"answer\":final_ans}\n",
        "    else:\n",
        "        return {\"answer\":\"No answer found! Please try with a different question.\"}\n"
      ]
    },
    {
      "cell_type": "code",
      "execution_count": null,
      "metadata": {
        "id": "x25yy9qmvM9H"
      },
      "outputs": [],
      "source": [
        "def suggested_Questions(state: MultiAgentState) -> MultiAgentState:\n",
        "    question = state[\"question\"]\n",
        "    answer = state.get(\"answer\", \"\")\n",
        "\n",
        "\n",
        "    SYS_PROMPT = \"\"\"\n",
        "You are a knowledgeable assistant tasked with generating relevant questions based on the given question and its answer with field. Based on the context provided, suggest three new questions that could logically follow the initial question. The new questions should explore related aspects or provide deeper insights into the topic.\n",
        "\n",
        "question: {question}\n",
        "answer: {answer}\n",
        "field: Finance/ Stock market\n",
        "\n",
        "\n",
        "Suggested Questions:\n",
        "all Suggested Questions should be in new line. Only give questions, nothing else! Only make 3 new Questions!\n",
        "    \"\"\"\n",
        "\n",
        "\n",
        "\n",
        "    prompt = SYS_PROMPT.replace(\"{question}\", question).replace(\"{answer}\", answer)\n",
        "    llm = groq_llama_3_3_70b_versatile\n",
        "    final_ans = groq_llama_3_3_70b_versatile(prompt)\n",
        "    final_ans = final_ans.split(\"\\n\")\n",
        "\n",
        "    return {\"followup_questions\":final_ans}\n"
      ]
    },
    {
      "cell_type": "code",
      "execution_count": null,
      "metadata": {
        "id": "6i8O07D0vM9H"
      },
      "outputs": [],
      "source": [
        "workflow = StateGraph(MultiAgentState)\n",
        "workflow.add_node(\"Rewrite_Question\", rewrite_q)\n",
        "\n",
        "workflow.add_node(\"Get_CIK_Value\", get_CIK)\n",
        "workflow.add_node(\"Gen_SEC_filing_Tags\", get_SEC_filings_tags)\n",
        "workflow.add_node(\"Gen_SEC_filing_Data\", get_SEC_filings_data)\n",
        "workflow.add_node(\"Gen_SEC_ANS\", SEC_gen_ans)\n",
        "\n",
        "\n",
        "\n",
        "workflow.add_node(\"Get_web_Data\", web_search)\n",
        "workflow.add_node(\"Gen_Web_ANS\", web_gen_ans)\n",
        "workflow.add_node(\"Final_ANS\", final_gen_ans)\n",
        "workflow.add_node(\"Follow_up_Questions\", suggested_Questions)\n",
        "\n",
        "\n",
        "workflow.set_entry_point(\"Rewrite_Question\")\n",
        "workflow.add_edge(\"Rewrite_Question\", \"Get_CIK_Value\")\n",
        "workflow.add_edge(\"Get_CIK_Value\", \"Gen_SEC_filing_Tags\")\n",
        "workflow.add_edge(\"Gen_SEC_filing_Tags\", \"Gen_SEC_filing_Data\")\n",
        "workflow.add_edge(\"Rewrite_Question\", \"Get_web_Data\")\n",
        "workflow.add_edge(\"Gen_SEC_filing_Data\", \"Gen_SEC_ANS\")\n",
        "workflow.add_edge(\"Gen_SEC_ANS\", \"Final_ANS\")\n",
        "workflow.add_edge(\"Get_web_Data\", \"Gen_Web_ANS\")\n",
        "workflow.add_edge(\"Gen_Web_ANS\", \"Final_ANS\")\n",
        "\n",
        "workflow.add_edge(\"Final_ANS\", \"Follow_up_Questions\")\n",
        "workflow.add_edge(\"Follow_up_Questions\", END)\n",
        "\n",
        "graph = workflow.compile()"
      ]
    },
    {
      "cell_type": "code",
      "execution_count": null,
      "metadata": {
        "id": "kI8S-mDnvM9H",
        "outputId": "5881dd90-f17b-4d2e-d428-2169e1793f8c"
      },
      "outputs": [
        {
          "data": {
            "image/png": "[encoded data removed]",
            "text/plain": [
              "<IPython.core.display.Image object>"
            ]
          },
          "metadata": {},
          "output_type": "display_data"
        }
      ],
      "source": [
        "from IPython.display import Image, display\n",
        "display(Image(graph.get_graph().draw_mermaid_png()))"
      ]
    },
    {
      "cell_type": "code",
      "execution_count": null,
      "metadata": {
        "id": "W3mSVVJXvM9I",
        "outputId": "559ad696-24ba-4111-8a9e-33cb9d35331a"
      },
      "outputs": [
        {
          "name": "stderr",
          "output_type": "stream",
          "text": [
            "No relevant docs were retrieved using the relevance score threshold 0.2\n",
            "No relevant docs were retrieved using the relevance score threshold 0.2\n"
          ]
        }
      ],
      "source": [
        "output = graph.invoke({\n",
        "    \"question\": \"Apple filing say about Earnings Per Share?\",\n",
        "})"
      ]
    },
    {
      "cell_type": "code",
      "execution_count": null,
      "metadata": {
        "id": "xbU8F3DlvM9I",
        "outputId": "5eb6183c-60b8-40ac-a0a3-1572289f31fe"
      },
      "outputs": [
        {
          "data": {
            "text/plain": [
              "{'question': \"What information does Apple's latest earnings filing reveal about its Earnings Per Share (EPS) performance, and how does it compare to previous quarters and analyst expectations?\",\n",
              " 'answer': \"Apple's latest earnings filing reveals that the company reported an EPS of $2.40, which beat analysts' consensus estimates of $2.36 by $0.04. This EPS performance is the same as the previous quarter, where Apple also reported $2.40 earnings per share, beating the analysts' consensus estimate of $2.36 by $0.04. The current EPS represents a 10% year-over-year increase.\",\n",
              " 'documents': [],\n",
              " 'web_results': [\"Apple (AAPL) Earnings Date and Reports 2025 Trending MarketBeat Stocks Top-Rated Stocks Top-Rated Dividend Stocks Earnings Stocks by Interest Stocks Under $0.50 Stocks Under $1 Stocks Under $2 Stocks Under $5 Top-Rated Stocks Top-Rated Dividend Stocks Apple (AAPL) Earnings Date, Estimates & Call Transcripts Earnings Earnings Apple issued Q1 2025 earnings on January 30, 2025, reporting an EPS of $2.40, which beat analysts' consensus estimates of $2.36 by $0.04. In the previous quarter, Apple (NASDAQ:AAPL) reported $2.40 earnings per share (EPS) to beat the analysts' consensus estimate of $2.36 by $0.04. Palantir Stock Surges After Blockbuster Earnings: What's Next? Why Amazon’s Next Earnings Could Trigger a Stock Breakout Upgrade to MarketBeat All Access to add more stocks to your watchlist. Compare Stocks Earnings\",\n",
              "  'Apple Inc (AAPL) Q1 2025 Earnings Call Highlights: Record Revenue and EPS Amidst Global Challenges Apple Inc (AAPL) Q1 2025 Earnings Call Highlights: Record Revenue and EPS Amidst Global Challenges Revenue: $124.3 billion, up 4% year over year, an all-time record. iPhone Revenue: $69.1 billion, reaching all-time records in several markets. Services Revenue: $26.3 billion, up 14% year over year, an all-time record. Apple Inc (NASDAQ:AAPL) reported an all-time high revenue of $124.3 billion for the December quarter, marking a 4% increase year over year. Services revenue reached an all-time record of $26.3 billion, growing 14% year over year, with significant growth in both developed and emerging markets. A: We observed stronger year-over-year performance for the iPhone 16 family in markets where Apple Intelligence was available.',\n",
              "  'Today, Apple is reporting revenue of $124.3 billion for the December quarter, up 4% from a year-ago and an all-time record. Products revenue was $98 billion, up 2% year-over-year, driven by growth from iPad and Mac. Thanks to our incredible customer satisfaction and strong loyalty, our installed-base of active devices reached an all-time high across all products and geographic segments and is now over 2.35 billion active devices. On Watch, although we face a difficult compare against the Watch Ultra 2 launch last year, the Apple Watch installed-base reached a new all-time high with over half of customers purchasing an Apple Watch during the quarter being new to the product.',\n",
              "  'This strong business performance resulted in all time records for both net income at $36,300,000,000 and diluted earnings per share of $2.40 up 10% year over year.',\n",
              "  'Today, Apple is reporting revenue of $124.3 billion for the December quarter, up 4% from a year ago and an all-time record. Products revenue was $98 billion, up 2% year over year, driven by growth from iPad and Mac. Thanks to our incredible customer satisfaction and strong loyalty, our install base of active devices reached an all-time high across all products and geographic segments and is now over 2.35 billion active devices. iPad revenue was $8.1 billion, up 15% year over year, driven by the new iPad mini and latest iPad Air. The iPad install base reached another all-time high, and over half of the customers who purchased an iPad during the quarter were new to the product.'],\n",
              " 'web_ans': \"Apple's latest earnings filing reveals that the company reported an EPS of $2.40, which beat analysts' consensus estimates of $2.36 by $0.04. This EPS performance is the same as the previous quarter, where Apple also reported $2.40 earnings per share, beating the analysts' consensus estimate of $2.36 by $0.04. The current EPS represents a 10% year-over-year increase.\",\n",
              " 'SEC_ans': '-1',\n",
              " 'CIK_value': '0000320193',\n",
              " 'SEC_filing_tags': ['10-Q', '10-K'],\n",
              " 'followup_questions': [\"What factors contributed to Apple's EPS growth, and how did revenue from different product segments impact the company's overall financial performance?\",\n",
              "  \"How do Apple's EPS results compare to those of its main competitors in the technology industry, and what does this say about the company's market position?\",\n",
              "  \"What are the implications of Apple's EPS beat for investor sentiment and the company's stock price, and how might this impact future earnings expectations and valuations?\",\n",
              "  \"What factors contributed to the 10% year-over-year increase in Apple's EPS, and are they expected to continue driving growth in future quarters?\",\n",
              "  \"How do Apple's EPS results compare to those of its main competitors in the tech industry, such as Microsoft and Alphabet?\",\n",
              "  \"What implications do Apple's EPS performance and revenue growth have on the company's stock price and overall market valuation in the short and long term?\"],\n",
              " 'halt_execution': False,\n",
              " 'halt_SEC': True}"
            ]
          },
          "execution_count": 102,
          "metadata": {},
          "output_type": "execute_result"
        }
      ],
      "source": [
        "output"
      ]
    },
    {
      "cell_type": "code",
      "execution_count": null,
      "metadata": {
        "id": "3L9huaoWvM9I",
        "outputId": "6422011c-4603-4152-9f4a-fd1f45668d3b"
      },
      "outputs": [
        {
          "data": {
            "text/plain": [
              "\"Apple's latest earnings filing reveals that the company reported an EPS of $2.40, which beat analysts' consensus estimates of $2.36 by $0.04. This EPS performance is the same as the previous quarter, where Apple also reported $2.40 earnings per share, beating the analysts' consensus estimate of $2.36 by $0.04. The current EPS represents a 10% year-over-year increase.\""
            ]
          },
          "execution_count": 103,
          "metadata": {},
          "output_type": "execute_result"
        }
      ],
      "source": [
        "output[\"answer\"]"
      ]
    },
    {
      "cell_type": "code",
      "execution_count": null,
      "metadata": {
        "id": "n0iqFJUYvM9I",
        "outputId": "0cadd3e8-33a1-4945-80ca-ffabe4cb8254"
      },
      "outputs": [
        {
          "data": {
            "text/plain": [
              "[\"What factors contributed to Apple's EPS growth, and how did revenue from different product segments impact the company's overall financial performance?\",\n",
              " \"How do Apple's EPS results compare to those of its main competitors in the technology industry, and what does this say about the company's market position?\",\n",
              " \"What are the implications of Apple's EPS beat for investor sentiment and the company's stock price, and how might this impact future earnings expectations and valuations?\",\n",
              " \"What factors contributed to the 10% year-over-year increase in Apple's EPS, and are they expected to continue driving growth in future quarters?\",\n",
              " \"How do Apple's EPS results compare to those of its main competitors in the tech industry, such as Microsoft and Alphabet?\",\n",
              " \"What implications do Apple's EPS performance and revenue growth have on the company's stock price and overall market valuation in the short and long term?\"]"
            ]
          },
          "execution_count": 104,
          "metadata": {},
          "output_type": "execute_result"
        }
      ],
      "source": [
        "output[\"followup_questions\"]"
      ]
    },
    {
      "cell_type": "code",
      "execution_count": null,
      "metadata": {
        "id": "ThrcZ-8YvM9I"
      },
      "outputs": [],
      "source": []
    }
  ],
  "metadata": {
    "colab": {
      "provenance": []
    },
    "kernelspec": {
      "display_name": "venv",
      "language": "python",
      "name": "python3"
    },
    "language_info": {
      "codemirror_mode": {
        "name": "ipython",
        "version": 3
      },
      "file_extension": ".py",
      "mimetype": "text/x-python",
      "name": "python",
      "nbconvert_exporter": "python",
      "pygments_lexer": "ipython3",
      "version": "3.13.0"
    }
  },
  "nbformat": 4,
  "nbformat_minor": 0
}
